{
 "cells": [
  {
   "cell_type": "code",
   "execution_count": 8,
   "metadata": {},
   "outputs": [],
   "source": [
    "import warnings\n",
    "warnings.filterwarnings('ignore')\n",
    "import pandas as pd\n",
    "from lightfm import LightFM\n",
    "import numpy as np\n",
    "from sklearn.model_selection import train_test_split\n",
    "from scipy.sparse import csr_matrix\n",
    "from lightfm.evaluation import precision_at_k, auc_score\n",
    "import pickle\n",
    "import os\n",
    "from scipy.sparse import save_npz, load_npz"
   ]
  },
  {
   "cell_type": "code",
   "execution_count": 2,
   "metadata": {},
   "outputs": [],
   "source": [
    "# Data from MovieLens 32M dataset https://grouplens.org/datasets/movielens/32m/\n",
    "ratings_df = pd.read_csv('data/ratings.csv')\n",
    "links_df = pd.read_csv('data/links.csv')\n",
    "movies_df = pd.read_csv('data/movies.csv')"
   ]
  },
  {
   "cell_type": "code",
   "execution_count": 3,
   "metadata": {},
   "outputs": [],
   "source": [
    "# Convert ratings to use TMDB IDs\n",
    "ratings_df = ratings_df.merge(links_df[['movieId', 'tmdbId']], on='movieId', how='inner')\n",
    "\n",
    "# Rename columns to match the expected format\n",
    "ratings_df = ratings_df.drop(columns=['movieId', 'timestamp'], axis=1)\n",
    "ratings_df = ratings_df.rename(columns={'tmdbId': 'movieId'})\n",
    "\n",
    "# Remove any rows with NaN values\n",
    "ratings_df = ratings_df.dropna(subset=['userId', 'movieId', 'rating'])\n",
    "\n",
    "# Ensure userId and movieId are integers\n",
    "ratings_df['userId'] = ratings_df['userId'].astype(int)\n",
    "ratings_df['movieId'] = ratings_df['movieId'].astype(int)"
   ]
  },
  {
   "cell_type": "code",
   "execution_count": 4,
   "metadata": {},
   "outputs": [
    {
     "name": "stdout",
     "output_type": "stream",
     "text": [
      "Sparse matrix shape: (200948, 84275)\n",
      "Matrix density: 0.1889%\n"
     ]
    }
   ],
   "source": [
    "# Create mappings for user and movie IDs\n",
    "user_ids = ratings_df['userId'].unique()\n",
    "movie_ids = ratings_df['movieId'].unique()\n",
    "\n",
    "user_id_map = {id_: i for i, id_ in enumerate(user_ids)}\n",
    "movie_id_map = {id_: i for i, id_ in enumerate(movie_ids)}\n",
    "\n",
    "# Convert ratings to matrix format\n",
    "row_ind = [user_id_map[x] for x in ratings_df['userId']]\n",
    "col_ind = [movie_id_map[x] for x in ratings_df['movieId']]\n",
    "ratings = ratings_df['rating'].values\n",
    "\n",
    "# Create sparse matrix\n",
    "sparse_matrix = csr_matrix(\n",
    "    (ratings, (row_ind, col_ind)),\n",
    "    shape=(len(user_ids), len(movie_ids))\n",
    ")\n",
    "\n",
    "print(\"Sparse matrix shape:\", sparse_matrix.shape)\n",
    "print(\"Matrix density: {:.4f}%\".format(\n",
    "    100 * sparse_matrix.nnz / (sparse_matrix.shape[0] * sparse_matrix.shape[1])\n",
    "))"
   ]
  },
  {
   "cell_type": "code",
   "execution_count": 5,
   "metadata": {},
   "outputs": [
    {
     "name": "stdout",
     "output_type": "stream",
     "text": [
      "Training matrix shape: (200948, 84275)\n",
      "Testing matrix shape: (200948, 84275)\n"
     ]
    }
   ],
   "source": [
    "# Split the ratings data into train and test\n",
    "ratings_train, ratings_test = train_test_split(\n",
    "    ratings_df,\n",
    "    test_size=0.2,\n",
    "    random_state=42\n",
    ")\n",
    "\n",
    "# Create train sparse matrix\n",
    "train_row_ind = [user_id_map[x] for x in ratings_train['userId']]\n",
    "train_col_ind = [movie_id_map[x] for x in ratings_train['movieId']]\n",
    "train_ratings = ratings_train['rating'].values\n",
    "\n",
    "train_matrix = csr_matrix(\n",
    "    (train_ratings, (train_row_ind, train_col_ind)),\n",
    "    shape=(len(user_ids), len(movie_ids))\n",
    ")\n",
    "\n",
    "# Create test sparse matrix\n",
    "test_row_ind = [user_id_map[x] for x in ratings_test['userId']]\n",
    "test_col_ind = [movie_id_map[x] for x in ratings_test['movieId']]\n",
    "test_ratings = ratings_test['rating'].values\n",
    "\n",
    "test_matrix = csr_matrix(\n",
    "    (test_ratings, (test_row_ind, test_col_ind)),\n",
    "    shape=(len(user_ids), len(movie_ids))\n",
    ")\n",
    "\n",
    "print(\"Training matrix shape:\", train_matrix.shape)\n",
    "print(\"Testing matrix shape:\", test_matrix.shape)"
   ]
  },
  {
   "cell_type": "code",
   "execution_count": null,
   "metadata": {},
   "outputs": [],
   "source": [
    "def create_movie_features():\n",
    "    # Get unique genres\n",
    "    all_genres = set()\n",
    "    for genres in movies_df['genres'].str.split('|'):\n",
    "        all_genres.update(genres)\n",
    "    \n",
    "    # Create a mapping of genre to index\n",
    "    genre_to_idx = {genre: idx for idx, genre in enumerate(all_genres)}\n",
    "    \n",
    "    # Create a feature matrix for movies\n",
    "    movie_features = []\n",
    "    for _, row in movies_df.iterrows():\n",
    "        movie_id = row['movieId']\n",
    "        # Get the TMDB ID for this movie\n",
    "        tmdb_id = links_df[links_df['movieId'] == movie_id]['tmdbId'].values\n",
    "        if len(tmdb_id) > 0:\n",
    "            tmdb_id = tmdb_id[0]\n",
    "            # Create a feature vector for this movie\n",
    "            feature_vector = np.zeros(len(genre_to_idx))\n",
    "            for genre in row['genres'].split('|'):\n",
    "                if genre in genre_to_idx:\n",
    "                    feature_vector[genre_to_idx[genre]] = 1\n",
    "            movie_features.append((tmdb_id, feature_vector))\n",
    "    \n",
    "    return movie_features, genre_to_idx"
   ]
  },
  {
   "cell_type": "code",
   "execution_count": null,
   "metadata": {},
   "outputs": [],
   "source": [
    "# Create the feature matrices\n",
    "movie_features, genre_to_idx = create_movie_features()\n",
    "\n",
    "# Convert to the format LightFM expects\n",
    "item_features = []\n",
    "item_feature_map = {}\n",
    "for tmdb_id, features in movie_features:\n",
    "    if tmdb_id in movie_id_map:\n",
    "        item_idx = movie_id_map[tmdb_id]\n",
    "        item_features.append(features)\n",
    "        item_feature_map[item_idx] = len(item_features) - 1\n",
    "\n",
    "item_features = np.array(item_features)"
   ]
  },
  {
   "cell_type": "code",
   "execution_count": 6,
   "metadata": {},
   "outputs": [
    {
     "name": "stdout",
     "output_type": "stream",
     "text": [
      "Epoch 0\n",
      "Epoch 1\n",
      "Epoch 2\n",
      "Epoch 3\n",
      "Epoch 4\n",
      "Epoch 5\n",
      "Epoch 6\n",
      "Epoch 7\n",
      "Epoch 8\n",
      "Epoch 9\n",
      "Epoch 10\n",
      "Epoch 11\n",
      "Epoch 12\n",
      "Epoch 13\n",
      "Epoch 14\n",
      "Epoch 15\n",
      "Epoch 16\n",
      "Epoch 17\n",
      "Epoch 18\n",
      "Epoch 19\n"
     ]
    },
    {
     "data": {
      "text/plain": [
       "<lightfm.lightfm.LightFM at 0x168342f10>"
      ]
     },
     "execution_count": 6,
     "metadata": {},
     "output_type": "execute_result"
    }
   ],
   "source": [
    "# Initialize the model\n",
    "model = LightFM(loss='warp',\n",
    "                learning_schedule='adagrad',\n",
    "                learning_rate=0.05,\n",
    "                item_alpha=0.1,\n",
    "                user_alpha=0.1)\n",
    "\n",
    "# Fit the model\n",
    "model.fit(train_matrix,\n",
    "          item_features=item_features,\n",
    "          epochs=30,\n",
    "          num_threads=4,\n",
    "          verbose=True)"
   ]
  },
  {
   "cell_type": "code",
   "execution_count": 9,
   "metadata": {},
   "outputs": [
    {
     "name": "stdout",
     "output_type": "stream",
     "text": [
      "Model and associated data saved successfully!\n"
     ]
    }
   ],
   "source": [
    "# Save the sparse matrices separately\n",
    "save_npz('train_matrix.npz', train_matrix)\n",
    "save_npz('test_matrix.npz', test_matrix)\n",
    "\n",
    "# Save the model and mappings\n",
    "model_data = {\n",
    "    'model': model,\n",
    "    'user_id_map': user_id_map,\n",
    "    'movie_id_map': movie_id_map,\n",
    "    'user_ids': user_ids,\n",
    "    'movie_ids': movie_ids\n",
    "}\n",
    "\n",
    "# Save to file\n",
    "with open('lightfm_model.pkl', 'wb') as f:\n",
    "    pickle.dump(model_data, f)\n",
    "\n",
    "print(\"Model and associated data saved successfully!\")"
   ]
  },
  {
   "cell_type": "code",
   "execution_count": null,
   "metadata": {},
   "outputs": [],
   "source": [
    "\n",
    "# Calculate precision@k and AUC for the test set\n",
    "# train_precision = precision_at_k(model, train_matrix, k=10).mean()\n",
    "# test_precision = precision_at_k(model, test_matrix, k=10).mean()\n",
    "\n",
    "# train_auc = auc_score(model, train_matrix).mean()\n",
    "# test_auc = auc_score(model, test_matrix).mean()\n",
    "\n",
    "# print('Train precision@10: %.2f' % train_precision)\n",
    "# print('Test precision@10: %.2f' % test_precision)\n",
    "# print('Train AUC: %.2f' % train_auc)\n",
    "# print('Test AUC: %.2f' % test_auc)"
   ]
  },
  {
   "cell_type": "code",
   "execution_count": 11,
   "metadata": {},
   "outputs": [],
   "source": [
    "def load_model():\n",
    "    \"\"\"\n",
    "    Load the saved model and associated data\n",
    "    \"\"\"\n",
    "    # Load the sparse matrices\n",
    "    train_matrix = load_npz('data/models/train_matrix.npz')\n",
    "    test_matrix = load_npz('data/models/test_matrix.npz')\n",
    "    \n",
    "    # Load the model and mappings\n",
    "    with open('data/models/lightfm_model.pkl', 'rb') as f:\n",
    "        model_data = pickle.load(f)\n",
    "    \n",
    "    return (\n",
    "        model_data['model'],\n",
    "        model_data['user_id_map'],\n",
    "        model_data['movie_id_map'],\n",
    "        model_data['user_ids'],\n",
    "        model_data['movie_ids'],\n",
    "        train_matrix,\n",
    "        test_matrix\n",
    "    )\n",
    "\n",
    "def get_movie_title(tmdb_id):\n",
    "    try:\n",
    "        movie_id = links_df[links_df['tmdbId'] == tmdb_id]['movieId'].values[0]\n",
    "        return movies_df[movies_df['movieId'] == movie_id]['title'].values[0]\n",
    "    except:\n",
    "        return f\"Movie with TMDB ID {tmdb_id} (title not found)\"\n",
    "\n",
    "def get_recommendations(user_id, n_items=10):\n",
    "    # Get the internal user index\n",
    "    user_idx = user_id_map[user_id]\n",
    "    \n",
    "    # Get scores for all items\n",
    "    scores = model.predict(user_idx, np.arange(len(movie_ids)))\n",
    "    \n",
    "    # Get the top N items\n",
    "    top_items = np.argsort(-scores)[:n_items]\n",
    "    \n",
    "    # Convert back to original TMDB IDs\n",
    "    top_tmdb_ids = [list(movie_id_map.keys())[list(movie_id_map.values()).index(idx)] for idx in top_items]\n",
    "    \n",
    "    return top_tmdb_ids"
   ]
  },
  {
   "cell_type": "code",
   "execution_count": 12,
   "metadata": {},
   "outputs": [
    {
     "name": "stdout",
     "output_type": "stream",
     "text": [
      "Top 10 recommendations for user 1:\n",
      "- Nobody's Home (2013)\n",
      "- Road to Yesterday (2015)\n",
      "- Technicolour Daydream (2018)\n",
      "- Four Sisters Before the Wedding (2020)\n",
      "- For Kayako (1984)\n",
      "- Under Cover (1987)\n",
      "- Une affaire qui roule (2002)\n",
      "- The Bellmen (2020)\n",
      "- Whitney Cummings: I Love You (2014)\n",
      "- The Assassination of Abraham Lincoln (2009)\n"
     ]
    }
   ],
   "source": [
    "# Example usage:\n",
    "user_id = 1  # Replace with actual user ID\n",
    "recommendations = get_recommendations(user_id)\n",
    "print(f\"Top 10 recommendations for user {user_id}:\")\n",
    "for tmdb_id in recommendations:\n",
    "    try:\n",
    "        movie_title = get_movie_title(tmdb_id)\n",
    "        print(f\"- {movie_title}\")\n",
    "    except:\n",
    "        print(f\"- Movie with TMDB ID {tmdb_id} (title not found)\")"
   ]
  },
  {
   "cell_type": "code",
   "execution_count": 13,
   "metadata": {},
   "outputs": [
    {
     "name": "stdout",
     "output_type": "stream",
     "text": [
      "New user's initial ratings:\n",
      "- Toy Story (1995): 5.0\n",
      "- Shawshank Redemption, The (1994): 4.5\n",
      "- Godfather, The (1972): 4.0\n",
      "\n",
      "Recommended movies for new user:\n",
      "- Nobody's Home (2013)\n",
      "- Road to Yesterday (2015)\n",
      "- Technicolour Daydream (2018)\n",
      "- Four Sisters Before the Wedding (2020)\n",
      "- For Kayako (1984)\n",
      "- Under Cover (1987)\n",
      "- Une affaire qui roule (2002)\n",
      "- The Bellmen (2020)\n",
      "- Whitney Cummings: I Love You (2014)\n",
      "- The Assassination of Abraham Lincoln (2009)\n",
      "\n",
      "Content-based recommendations for genre preferences:\n"
     ]
    },
    {
     "ename": "KeyboardInterrupt",
     "evalue": "",
     "output_type": "error",
     "traceback": [
      "\u001b[31m---------------------------------------------------------------------------\u001b[39m",
      "\u001b[31mKeyboardInterrupt\u001b[39m                         Traceback (most recent call last)",
      "\u001b[36mCell\u001b[39m\u001b[36m \u001b[39m\u001b[32mIn[13]\u001b[39m\u001b[32m, line 88\u001b[39m\n\u001b[32m     86\u001b[39m \u001b[38;5;28mprint\u001b[39m(\u001b[33m\"\u001b[39m\u001b[38;5;130;01m\\n\u001b[39;00m\u001b[33mContent-based recommendations for genre preferences:\u001b[39m\u001b[33m\"\u001b[39m)\n\u001b[32m     87\u001b[39m genre_preferences = [\u001b[33m'\u001b[39m\u001b[33mAction\u001b[39m\u001b[33m'\u001b[39m, \u001b[33m'\u001b[39m\u001b[33mAdventure\u001b[39m\u001b[33m'\u001b[39m]\n\u001b[32m---> \u001b[39m\u001b[32m88\u001b[39m content_recommendations = \u001b[43mget_content_based_recommendations\u001b[49m\u001b[43m(\u001b[49m\u001b[43mgenre_preferences\u001b[49m\u001b[43m)\u001b[49m\n\u001b[32m     89\u001b[39m \u001b[38;5;28;01mfor\u001b[39;00m movie_id \u001b[38;5;129;01min\u001b[39;00m content_recommendations:\n\u001b[32m     90\u001b[39m     \u001b[38;5;28mprint\u001b[39m(\u001b[33mf\u001b[39m\u001b[33m\"\u001b[39m\u001b[33m- \u001b[39m\u001b[38;5;132;01m{\u001b[39;00mget_movie_title(movie_id)\u001b[38;5;132;01m}\u001b[39;00m\u001b[33m\"\u001b[39m)\n",
      "\u001b[36mCell\u001b[39m\u001b[36m \u001b[39m\u001b[32mIn[13]\u001b[39m\u001b[32m, line 77\u001b[39m, in \u001b[36mget_content_based_recommendations\u001b[39m\u001b[34m(genre_preferences, n_recommendations)\u001b[39m\n\u001b[32m     75\u001b[39m movie_idx = movie_id_map[tmdb_id]\n\u001b[32m     76\u001b[39m \u001b[38;5;66;03m# Get the average rating for this movie\u001b[39;00m\n\u001b[32m---> \u001b[39m\u001b[32m77\u001b[39m ratings = ratings_df[\u001b[43mratings_df\u001b[49m\u001b[43m[\u001b[49m\u001b[33;43m'\u001b[39;49m\u001b[33;43mmovieId\u001b[39;49m\u001b[33;43m'\u001b[39;49m\u001b[43m]\u001b[49m\u001b[43m \u001b[49m\u001b[43m==\u001b[49m\u001b[43m \u001b[49m\u001b[43mtmdb_id\u001b[49m][\u001b[33m'\u001b[39m\u001b[33mrating\u001b[39m\u001b[33m'\u001b[39m]\n\u001b[32m     78\u001b[39m \u001b[38;5;28;01mif\u001b[39;00m \u001b[38;5;28mlen\u001b[39m(ratings) > \u001b[32m0\u001b[39m:\n\u001b[32m     79\u001b[39m     movie_ratings[tmdb_id] = ratings.mean()\n",
      "\u001b[36mFile \u001b[39m\u001b[32m~/miniforge3/envs/movies/lib/python3.11/site-packages/pandas/core/ops/common.py:76\u001b[39m, in \u001b[36m_unpack_zerodim_and_defer.<locals>.new_method\u001b[39m\u001b[34m(self, other)\u001b[39m\n\u001b[32m     72\u001b[39m             \u001b[38;5;28;01mreturn\u001b[39;00m \u001b[38;5;28mNotImplemented\u001b[39m\n\u001b[32m     74\u001b[39m other = item_from_zerodim(other)\n\u001b[32m---> \u001b[39m\u001b[32m76\u001b[39m \u001b[38;5;28;01mreturn\u001b[39;00m \u001b[43mmethod\u001b[49m\u001b[43m(\u001b[49m\u001b[38;5;28;43mself\u001b[39;49m\u001b[43m,\u001b[49m\u001b[43m \u001b[49m\u001b[43mother\u001b[49m\u001b[43m)\u001b[49m\n",
      "\u001b[36mFile \u001b[39m\u001b[32m~/miniforge3/envs/movies/lib/python3.11/site-packages/pandas/core/arraylike.py:40\u001b[39m, in \u001b[36mOpsMixin.__eq__\u001b[39m\u001b[34m(self, other)\u001b[39m\n\u001b[32m     38\u001b[39m \u001b[38;5;129m@unpack_zerodim_and_defer\u001b[39m(\u001b[33m\"\u001b[39m\u001b[33m__eq__\u001b[39m\u001b[33m\"\u001b[39m)\n\u001b[32m     39\u001b[39m \u001b[38;5;28;01mdef\u001b[39;00m\u001b[38;5;250m \u001b[39m\u001b[34m__eq__\u001b[39m(\u001b[38;5;28mself\u001b[39m, other):\n\u001b[32m---> \u001b[39m\u001b[32m40\u001b[39m     \u001b[38;5;28;01mreturn\u001b[39;00m \u001b[38;5;28;43mself\u001b[39;49m\u001b[43m.\u001b[49m\u001b[43m_cmp_method\u001b[49m\u001b[43m(\u001b[49m\u001b[43mother\u001b[49m\u001b[43m,\u001b[49m\u001b[43m \u001b[49m\u001b[43moperator\u001b[49m\u001b[43m.\u001b[49m\u001b[43meq\u001b[49m\u001b[43m)\u001b[49m\n",
      "\u001b[36mFile \u001b[39m\u001b[32m~/miniforge3/envs/movies/lib/python3.11/site-packages/pandas/core/series.py:6119\u001b[39m, in \u001b[36mSeries._cmp_method\u001b[39m\u001b[34m(self, other, op)\u001b[39m\n\u001b[32m   6116\u001b[39m lvalues = \u001b[38;5;28mself\u001b[39m._values\n\u001b[32m   6117\u001b[39m rvalues = extract_array(other, extract_numpy=\u001b[38;5;28;01mTrue\u001b[39;00m, extract_range=\u001b[38;5;28;01mTrue\u001b[39;00m)\n\u001b[32m-> \u001b[39m\u001b[32m6119\u001b[39m res_values = \u001b[43mops\u001b[49m\u001b[43m.\u001b[49m\u001b[43mcomparison_op\u001b[49m\u001b[43m(\u001b[49m\u001b[43mlvalues\u001b[49m\u001b[43m,\u001b[49m\u001b[43m \u001b[49m\u001b[43mrvalues\u001b[49m\u001b[43m,\u001b[49m\u001b[43m \u001b[49m\u001b[43mop\u001b[49m\u001b[43m)\u001b[49m\n\u001b[32m   6121\u001b[39m \u001b[38;5;28;01mreturn\u001b[39;00m \u001b[38;5;28mself\u001b[39m._construct_result(res_values, name=res_name)\n",
      "\u001b[36mFile \u001b[39m\u001b[32m~/miniforge3/envs/movies/lib/python3.11/site-packages/pandas/core/ops/array_ops.py:347\u001b[39m, in \u001b[36mcomparison_op\u001b[39m\u001b[34m(left, right, op)\u001b[39m\n\u001b[32m    344\u001b[39m     res_values = comp_method_OBJECT_ARRAY(op, lvalues, rvalues)\n\u001b[32m    346\u001b[39m \u001b[38;5;28;01melse\u001b[39;00m:\n\u001b[32m--> \u001b[39m\u001b[32m347\u001b[39m     res_values = \u001b[43m_na_arithmetic_op\u001b[49m\u001b[43m(\u001b[49m\u001b[43mlvalues\u001b[49m\u001b[43m,\u001b[49m\u001b[43m \u001b[49m\u001b[43mrvalues\u001b[49m\u001b[43m,\u001b[49m\u001b[43m \u001b[49m\u001b[43mop\u001b[49m\u001b[43m,\u001b[49m\u001b[43m \u001b[49m\u001b[43mis_cmp\u001b[49m\u001b[43m=\u001b[49m\u001b[38;5;28;43;01mTrue\u001b[39;49;00m\u001b[43m)\u001b[49m\n\u001b[32m    349\u001b[39m \u001b[38;5;28;01mreturn\u001b[39;00m res_values\n",
      "\u001b[36mFile \u001b[39m\u001b[32m~/miniforge3/envs/movies/lib/python3.11/site-packages/pandas/core/ops/array_ops.py:218\u001b[39m, in \u001b[36m_na_arithmetic_op\u001b[39m\u001b[34m(left, right, op, is_cmp)\u001b[39m\n\u001b[32m    215\u001b[39m     func = partial(expressions.evaluate, op)\n\u001b[32m    217\u001b[39m \u001b[38;5;28;01mtry\u001b[39;00m:\n\u001b[32m--> \u001b[39m\u001b[32m218\u001b[39m     result = \u001b[43mfunc\u001b[49m\u001b[43m(\u001b[49m\u001b[43mleft\u001b[49m\u001b[43m,\u001b[49m\u001b[43m \u001b[49m\u001b[43mright\u001b[49m\u001b[43m)\u001b[49m\n\u001b[32m    219\u001b[39m \u001b[38;5;28;01mexcept\u001b[39;00m \u001b[38;5;167;01mTypeError\u001b[39;00m:\n\u001b[32m    220\u001b[39m     \u001b[38;5;28;01mif\u001b[39;00m \u001b[38;5;129;01mnot\u001b[39;00m is_cmp \u001b[38;5;129;01mand\u001b[39;00m (\n\u001b[32m    221\u001b[39m         left.dtype == \u001b[38;5;28mobject\u001b[39m \u001b[38;5;129;01mor\u001b[39;00m \u001b[38;5;28mgetattr\u001b[39m(right, \u001b[33m\"\u001b[39m\u001b[33mdtype\u001b[39m\u001b[33m\"\u001b[39m, \u001b[38;5;28;01mNone\u001b[39;00m) == \u001b[38;5;28mobject\u001b[39m\n\u001b[32m    222\u001b[39m     ):\n\u001b[32m   (...)\u001b[39m\u001b[32m    225\u001b[39m         \u001b[38;5;66;03m# Don't do this for comparisons, as that will handle complex numbers\u001b[39;00m\n\u001b[32m    226\u001b[39m         \u001b[38;5;66;03m#  incorrectly, see GH#32047\u001b[39;00m\n",
      "\u001b[36mFile \u001b[39m\u001b[32m~/miniforge3/envs/movies/lib/python3.11/site-packages/pandas/core/computation/expressions.py:242\u001b[39m, in \u001b[36mevaluate\u001b[39m\u001b[34m(op, a, b, use_numexpr)\u001b[39m\n\u001b[32m    239\u001b[39m \u001b[38;5;28;01mif\u001b[39;00m op_str \u001b[38;5;129;01mis\u001b[39;00m \u001b[38;5;129;01mnot\u001b[39;00m \u001b[38;5;28;01mNone\u001b[39;00m:\n\u001b[32m    240\u001b[39m     \u001b[38;5;28;01mif\u001b[39;00m use_numexpr:\n\u001b[32m    241\u001b[39m         \u001b[38;5;66;03m# error: \"None\" not callable\u001b[39;00m\n\u001b[32m--> \u001b[39m\u001b[32m242\u001b[39m         \u001b[38;5;28;01mreturn\u001b[39;00m \u001b[43m_evaluate\u001b[49m\u001b[43m(\u001b[49m\u001b[43mop\u001b[49m\u001b[43m,\u001b[49m\u001b[43m \u001b[49m\u001b[43mop_str\u001b[49m\u001b[43m,\u001b[49m\u001b[43m \u001b[49m\u001b[43ma\u001b[49m\u001b[43m,\u001b[49m\u001b[43m \u001b[49m\u001b[43mb\u001b[49m\u001b[43m)\u001b[49m  \u001b[38;5;66;03m# type: ignore[misc]\u001b[39;00m\n\u001b[32m    243\u001b[39m \u001b[38;5;28;01mreturn\u001b[39;00m _evaluate_standard(op, op_str, a, b)\n",
      "\u001b[36mFile \u001b[39m\u001b[32m~/miniforge3/envs/movies/lib/python3.11/site-packages/pandas/core/computation/expressions.py:73\u001b[39m, in \u001b[36m_evaluate_standard\u001b[39m\u001b[34m(op, op_str, a, b)\u001b[39m\n\u001b[32m     71\u001b[39m \u001b[38;5;28;01mif\u001b[39;00m _TEST_MODE:\n\u001b[32m     72\u001b[39m     _store_test_result(\u001b[38;5;28;01mFalse\u001b[39;00m)\n\u001b[32m---> \u001b[39m\u001b[32m73\u001b[39m \u001b[38;5;28;01mreturn\u001b[39;00m op(a, b)\n",
      "\u001b[31mKeyboardInterrupt\u001b[39m: "
     ]
    }
   ],
   "source": [
    "def handle_new_user(user_ratings, n_recommendations=10):\n",
    "    \"\"\"\n",
    "    Handle a new user by creating a temporary profile and making recommendations\n",
    "    \n",
    "    Parameters:\n",
    "    user_ratings: list of tuples (movie_id, rating) where movie_id is the TMDB ID\n",
    "    n_recommendations: number of recommendations to return\n",
    "    \"\"\"\n",
    "    # Create a new user ID (one more than the maximum existing user ID)\n",
    "    new_user_id = max(user_id_map.keys()) + 1\n",
    "    \n",
    "    # Create a temporary sparse matrix for the new user\n",
    "    new_user_matrix = csr_matrix((1, len(movie_ids)))\n",
    "    \n",
    "    # Add the user's ratings to the matrix\n",
    "    for movie_id, rating in user_ratings:\n",
    "        if movie_id in movie_id_map:\n",
    "            movie_idx = movie_id_map[movie_id]\n",
    "            new_user_matrix[0, movie_idx] = rating\n",
    "    \n",
    "    # Get the model's predictions for the new user\n",
    "    scores = model.predict(0, np.arange(len(movie_ids)))\n",
    "    \n",
    "    # Get the top N items that the user hasn't rated\n",
    "    rated_movies = set(movie_id for movie_id, _ in user_ratings)\n",
    "    top_items = []\n",
    "    for idx in np.argsort(-scores):\n",
    "        movie_id = list(movie_id_map.keys())[list(movie_id_map.values()).index(idx)]\n",
    "        if movie_id not in rated_movies:\n",
    "            top_items.append(movie_id)\n",
    "            if len(top_items) >= n_recommendations:\n",
    "                break\n",
    "    \n",
    "    return top_items\n",
    "\n",
    "# Example of a new user with some initial ratings\n",
    "new_user_ratings = [\n",
    "    (862, 5.0),  # Toy Story\n",
    "    (278, 4.5),  # The Shawshank Redemption\n",
    "    (238, 4.0),  # The Godfather\n",
    "]\n",
    "\n",
    "print(\"New user's initial ratings:\")\n",
    "for movie_id, rating in new_user_ratings:\n",
    "    print(f\"- {get_movie_title(movie_id)}: {rating}\")\n",
    "\n",
    "print(\"\\nRecommended movies for new user:\")\n",
    "recommendations = handle_new_user(new_user_ratings)\n",
    "for movie_id in recommendations:\n",
    "    print(f\"- {get_movie_title(movie_id)}\")\n",
    "\n"
   ]
  },
  {
   "cell_type": "code",
   "execution_count": null,
   "metadata": {},
   "outputs": [],
   "source": [
    "# Alternative approach: Content-based recommendations for completely new users\n",
    "def get_content_based_recommendations(genre_preferences, n_recommendations=10):\n",
    "    \"\"\"\n",
    "    Get recommendations based on genre preferences for users with no ratings\n",
    "    \n",
    "    Parameters:\n",
    "    genre_preferences: list of preferred genres\n",
    "    n_recommendations: number of recommendations to return\n",
    "    \"\"\"\n",
    "    # Get movies that match the preferred genres\n",
    "    genre_movies = movies_df[movies_df['genres'].str.contains('|'.join(genre_preferences), case=False)]\n",
    "    \n",
    "    # Get the corresponding TMDB IDs\n",
    "    genre_movie_ids = []\n",
    "    for movie_id in genre_movies['movieId']:\n",
    "        tmdb_id = links_df[links_df['movieId'] == movie_id]['tmdbId'].values\n",
    "        if len(tmdb_id) > 0:\n",
    "            genre_movie_ids.append(tmdb_id[0])\n",
    "    \n",
    "    # Get the average rating for these movies\n",
    "    movie_ratings = {}\n",
    "    for tmdb_id in genre_movie_ids:\n",
    "        if tmdb_id in movie_id_map:\n",
    "            movie_idx = movie_id_map[tmdb_id]\n",
    "            # Get the average rating for this movie\n",
    "            ratings = ratings_df[ratings_df['movieId'] == tmdb_id]['rating']\n",
    "            if len(ratings) > 0:\n",
    "                movie_ratings[tmdb_id] = ratings.mean()\n",
    "    \n",
    "    # Sort by average rating and return top N\n",
    "    sorted_movies = sorted(movie_ratings.items(), key=lambda x: x[1], reverse=True)\n",
    "    return [movie_id for movie_id, _ in sorted_movies[:n_recommendations]]\n",
    "\n",
    "# Example usage for content-based recommendations:\n",
    "print(\"\\nContent-based recommendations for genre preferences:\")\n",
    "genre_preferences = ['Action', 'Adventure']\n",
    "content_recommendations = get_content_based_recommendations(genre_preferences)\n",
    "for movie_id in content_recommendations:\n",
    "    print(f\"- {get_movie_title(movie_id)}\")"
   ]
  }
 ],
 "metadata": {
  "kernelspec": {
   "display_name": "movies",
   "language": "python",
   "name": "python3"
  },
  "language_info": {
   "codemirror_mode": {
    "name": "ipython",
    "version": 3
   },
   "file_extension": ".py",
   "mimetype": "text/x-python",
   "name": "python",
   "nbconvert_exporter": "python",
   "pygments_lexer": "ipython3",
   "version": "3.11.12"
  }
 },
 "nbformat": 4,
 "nbformat_minor": 2
}
