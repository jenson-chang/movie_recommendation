{
 "cells": [
  {
   "cell_type": "code",
   "execution_count": 1,
   "id": "74c1070e-d27a-4a1d-aa92-285de18534ee",
   "metadata": {},
   "outputs": [],
   "source": [
    "import pickle\n",
    "import numpy as np\n",
    "import pandas as pd\n",
    "from collections import defaultdict\n",
    "from surprise import accuracy, Dataset, SVD, Reader\n",
    "from surprise.model_selection import cross_validate, train_test_split"
   ]
  },
  {
   "cell_type": "code",
   "execution_count": 2,
   "id": "5e174904-55d0-4761-b17d-b8b1c587505c",
   "metadata": {},
   "outputs": [],
   "source": [
    "# Source: Modified from https://github.com/NicolasHug/Surprise/blob/master/examples/top_n_recommendations.py\n",
    "def get_top_n_for_user(predictions, user_id, n=10):\n",
    "    \"\"\"\n",
    "    Return the top-N recommendations for a given user from a set of predictions.\n",
    "\n",
    "    Args:\n",
    "        predictions (list of Prediction objects): The list of predictions, as returned by the test method of an algorithm.\n",
    "        user_id (str or int): The user ID for whom to get recommendations.\n",
    "        n (int): The number of recommendations to return. Default is 10.\n",
    "\n",
    "    Returns:\n",
    "        list or str: A sorted list of tuples [(item_id, estimated_rating), ...] of size n for the given user_id,\n",
    "                     or a message if the user_id is not found.\n",
    "    \"\"\"\n",
    "\n",
    "    # Filter predictions for the given user_id\n",
    "    user_predictions = [(iid, est) for uid, iid, true_r, est, _ in predictions if uid == user_id]\n",
    "\n",
    "    # If user_id is not found, return a message\n",
    "    if not user_predictions:\n",
    "        return f\"User ID {user_id} not found in predictions.\"\n",
    "\n",
    "    # Sort by estimated rating in descending order\n",
    "    user_predictions.sort(key=lambda x: x[1], reverse=True)\n",
    "\n",
    "    # Return top-N recommendations\n",
    "    return user_predictions[:n]"
   ]
  },
  {
   "cell_type": "code",
   "execution_count": 3,
   "id": "2d4e5f76-d5d0-422e-9cdb-aa3faff1ca8b",
   "metadata": {},
   "outputs": [
    {
     "name": "stdout",
     "output_type": "stream",
     "text": [
      "Dataset ml-100k could not be found. Do you want to download it? [Y/n] "
     ]
    },
    {
     "name": "stdin",
     "output_type": "stream",
     "text": [
      " Y\n"
     ]
    },
    {
     "name": "stdout",
     "output_type": "stream",
     "text": [
      "Trying to download dataset from https://files.grouplens.org/datasets/movielens/ml-100k.zip...\n",
      "Done! Dataset ml-100k has been saved to /Users/jchang/.surprise_data/ml-100k\n",
      "Evaluating RMSE, MAE of algorithm SVD on 3 split(s).\n",
      "\n",
      "                  Fold 1  Fold 2  Fold 3  Mean    Std     \n",
      "RMSE (testset)    0.9466  0.9457  0.9434  0.9453  0.0014  \n",
      "MAE (testset)     0.7467  0.7467  0.7444  0.7459  0.0011  \n",
      "Fit time          0.20    0.20    0.20    0.20    0.00    \n",
      "Test time         0.08    0.08    0.08    0.08    0.00    \n"
     ]
    },
    {
     "data": {
      "text/html": [
       "<div>\n",
       "<style scoped>\n",
       "    .dataframe tbody tr th:only-of-type {\n",
       "        vertical-align: middle;\n",
       "    }\n",
       "\n",
       "    .dataframe tbody tr th {\n",
       "        vertical-align: top;\n",
       "    }\n",
       "\n",
       "    .dataframe thead th {\n",
       "        text-align: right;\n",
       "    }\n",
       "</style>\n",
       "<table border=\"1\" class=\"dataframe\">\n",
       "  <thead>\n",
       "    <tr style=\"text-align: right;\">\n",
       "      <th></th>\n",
       "      <th>test_rmse</th>\n",
       "      <th>test_mae</th>\n",
       "      <th>fit_time</th>\n",
       "      <th>test_time</th>\n",
       "    </tr>\n",
       "  </thead>\n",
       "  <tbody>\n",
       "    <tr>\n",
       "      <th>0</th>\n",
       "      <td>0.946610</td>\n",
       "      <td>0.746708</td>\n",
       "      <td>0.197019</td>\n",
       "      <td>0.079390</td>\n",
       "    </tr>\n",
       "    <tr>\n",
       "      <th>1</th>\n",
       "      <td>0.945741</td>\n",
       "      <td>0.746728</td>\n",
       "      <td>0.202833</td>\n",
       "      <td>0.080176</td>\n",
       "    </tr>\n",
       "    <tr>\n",
       "      <th>2</th>\n",
       "      <td>0.943403</td>\n",
       "      <td>0.744368</td>\n",
       "      <td>0.202025</td>\n",
       "      <td>0.080450</td>\n",
       "    </tr>\n",
       "  </tbody>\n",
       "</table>\n",
       "</div>"
      ],
      "text/plain": [
       "   test_rmse  test_mae  fit_time  test_time\n",
       "0   0.946610  0.746708  0.197019   0.079390\n",
       "1   0.945741  0.746728  0.202833   0.080176\n",
       "2   0.943403  0.744368  0.202025   0.080450"
      ]
     },
     "execution_count": 3,
     "metadata": {},
     "output_type": "execute_result"
    }
   ],
   "source": [
    "# First train an SVD algorithm on the movielens dataset.\n",
    "data = Dataset.load_builtin(\"ml-100k\")\n",
    "trainset = data.build_full_trainset()\n",
    "algo = SVD()\n",
    "algo.fit(trainset)\n",
    "pd.DataFrame(cross_validate(algo, data, measures=[\"RMSE\", \"MAE\"], cv=3, verbose=True))"
   ]
  },
  {
   "cell_type": "code",
   "execution_count": 10,
   "id": "21b94857-d175-48c1-b5ef-2c7c065ceada",
   "metadata": {},
   "outputs": [
    {
     "name": "stdout",
     "output_type": "stream",
     "text": [
      "<surprise.trainset.Trainset object at 0x124e83b00>\n"
     ]
    }
   ],
   "source": [
    "print(trainset)"
   ]
  },
  {
   "cell_type": "code",
   "execution_count": 4,
   "id": "221ddeec-8c4b-4e59-845b-55d2b0fdcdf1",
   "metadata": {},
   "outputs": [],
   "source": [
    "# Than predict ratings for all pairs (u, i) that are NOT in the training set.\n",
    "testset = trainset.build_anti_testset()\n",
    "predictions = algo.test(testset)"
   ]
  },
  {
   "cell_type": "code",
   "execution_count": 11,
   "id": "45de1a1a-9ff5-42ea-b654-5053db68bbee",
   "metadata": {},
   "outputs": [
    {
     "data": {
      "text/plain": [
       "[('169', 5),\n",
       " ('357', 4.963285101249353),\n",
       " ('513', 4.910438308509189),\n",
       " ('408', 4.876967607594528),\n",
       " ('483', 4.864595039824109),\n",
       " ('64', 4.860335106494823),\n",
       " ('98', 4.84590936653487),\n",
       " ('603', 4.824792657940018),\n",
       " ('480', 4.813991803165743),\n",
       " ('114', 4.800497330139678)]"
      ]
     },
     "execution_count": 11,
     "metadata": {},
     "output_type": "execute_result"
    }
   ],
   "source": [
    "uid = str(563)\n",
    "get_top_n_for_user(predictions, uid, n=10)"
   ]
  },
  {
   "cell_type": "code",
   "execution_count": null,
   "id": "cc46aa51-6f55-49e4-9dd2-5b54587ada10",
   "metadata": {},
   "outputs": [],
   "source": [
    "with open(\"predictions.pkl\", \"wb\") as file:\n",
    "    pickle.dump(predictions, file)"
   ]
  }
 ],
 "metadata": {
  "kernelspec": {
   "display_name": "Python [conda env:563]",
   "language": "python",
   "name": "conda-env-563-py"
  },
  "language_info": {
   "codemirror_mode": {
    "name": "ipython",
    "version": 3
   },
   "file_extension": ".py",
   "mimetype": "text/x-python",
   "name": "python",
   "nbconvert_exporter": "python",
   "pygments_lexer": "ipython3",
   "version": "3.12.0"
  }
 },
 "nbformat": 4,
 "nbformat_minor": 5
}
