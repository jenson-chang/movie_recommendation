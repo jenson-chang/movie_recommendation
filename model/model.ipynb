{
 "cells": [
  {
   "cell_type": "code",
   "execution_count": 1,
   "id": "74c1070e-d27a-4a1d-aa92-285de18534ee",
   "metadata": {},
   "outputs": [],
   "source": [
    "import pickle\n",
    "import numpy as np\n",
    "import pandas as pd\n",
    "import zipfile\n",
    "from collections import defaultdict\n",
    "from surprise import Dataset, SVD, Reader\n",
    "from surprise.model_selection import cross_validate"
   ]
  },
  {
   "cell_type": "code",
   "execution_count": 2,
   "id": "5e174904-55d0-4761-b17d-b8b1c587505c",
   "metadata": {},
   "outputs": [],
   "source": [
    "# Source: Modified from https://github.com/NicolasHug/Surprise/blob/master/examples/top_n_recommendations.py\n",
    "def get_top_n_for_user(predictions, user_id, n=10):\n",
    "    \"\"\"\n",
    "    Return the top-N recommendations for a given user from a set of predictions.\n",
    "\n",
    "    Args:\n",
    "        predictions (list of Prediction objects): The list of predictions, as returned by the test method of an algorithm.\n",
    "        user_id (str or int): The user ID for whom to get recommendations.\n",
    "        n (int): The number of recommendations to return. Default is 10.\n",
    "\n",
    "    Returns:\n",
    "        list or str: A sorted list of tuples [(item_id, estimated_rating), ...] of size n for the given user_id,\n",
    "                     or a message if the user_id is not found.\n",
    "    \"\"\"\n",
    "\n",
    "    # Filter predictions for the given user_id\n",
    "    user_predictions = [(iid, est) for uid, iid, true_r, est, _ in predictions if uid == user_id]\n",
    "\n",
    "    # If user_id is not found, return a message\n",
    "    if not user_predictions:\n",
    "        return f\"User ID {user_id} not found in predictions.\"\n",
    "\n",
    "    # Sort by estimated rating in descending order\n",
    "    user_predictions.sort(key=lambda x: x[1], reverse=True)\n",
    "\n",
    "    # Return top-N recommendations\n",
    "    return user_predictions[:n]"
   ]
  },
  {
   "cell_type": "code",
   "execution_count": 3,
   "id": "2d4e5f76-d5d0-422e-9cdb-aa3faff1ca8b",
   "metadata": {},
   "outputs": [],
   "source": [
    "# First train an SVD algorithm on the movielens dataset.\n",
    "data = Dataset.load_builtin(\"ml-100k\")\n",
    "trainset = data.build_full_trainset()\n",
    "links = pd.read_csv(\"data/links.csv\")"
   ]
  },
  {
   "cell_type": "code",
   "execution_count": 4,
   "id": "c80cb74d",
   "metadata": {},
   "outputs": [],
   "source": [
    "# Get the raw training data\n",
    "raw_trainset = data.raw_ratings\n",
    "\n",
    "# Convert training data to use TMDB IDs\n",
    "ratings_data = []\n",
    "for uid, mid, rating, timestamp in raw_trainset:\n",
    "    # Convert movie ID to int for matching with links DataFrame\n",
    "    movie_id = int(mid)\n",
    "    # Get the TMDB ID from links DataFrame\n",
    "    tmdb_id = links[links['movieId'] == movie_id]['tmdbId'].values\n",
    "    # Only add rating if TMDB ID exists\n",
    "    if len(tmdb_id) > 0:\n",
    "        ratings_data.append({\n",
    "            'userID': str(uid),\n",
    "            'movieID': str(tmdb_id[0]),\n",
    "            'rating': rating\n",
    "        })\n",
    "\n",
    "# Convert to DataFrame\n",
    "df = pd.DataFrame(ratings_data)\n",
    "\n",
    "# Create a new Reader object\n",
    "reader = Reader(rating_scale=(1, 5))\n",
    "\n",
    "# Create a new Dataset object with TMDB IDs\n",
    "data = Dataset.load_from_df(df[['userID', 'movieID', 'rating']], reader)\n",
    "\n",
    "# Build the full trainset\n",
    "trainset = data.build_full_trainset()"
   ]
  },
  {
   "cell_type": "code",
   "execution_count": 5,
   "id": "2ec6369d",
   "metadata": {},
   "outputs": [
    {
     "data": {
      "text/plain": [
       "<surprise.prediction_algorithms.matrix_factorization.SVD at 0x30f3ddac0>"
      ]
     },
     "execution_count": 5,
     "metadata": {},
     "output_type": "execute_result"
    }
   ],
   "source": [
    "\n",
    "algo = SVD()\n",
    "algo.fit(trainset)\n",
    "# pd.DataFrame(cross_validate(algo, data, measures=[\"RMSE\", \"MAE\"], cv=3, verbose=True))"
   ]
  },
  {
   "cell_type": "code",
   "execution_count": 6,
   "id": "221ddeec-8c4b-4e59-845b-55d2b0fdcdf1",
   "metadata": {},
   "outputs": [],
   "source": [
    "# Than predict ratings for all pairs (u, i) that are NOT in the training set.\n",
    "testset = trainset.build_anti_testset()\n",
    "predictions = algo.test(testset)"
   ]
  },
  {
   "cell_type": "code",
   "execution_count": 7,
   "id": "cc46aa51-6f55-49e4-9dd2-5b54587ada10",
   "metadata": {},
   "outputs": [
    {
     "data": {
      "text/plain": [
       "[('947.0', 4.933744498750255),\n",
       " ('981.0', 4.707889800003292),\n",
       " ('982.0', 4.677674757997651),\n",
       " ('961.0', 4.674904418394773),\n",
       " ('164.0', 4.6640870781456805),\n",
       " ('23383.0', 4.661465395570442),\n",
       " ('592.0', 4.6562497183370315),\n",
       " ('309.0', 4.642546629848182),\n",
       " ('845.0', 4.61202504679512),\n",
       " ('3529.0', 4.609674128813477)]"
      ]
     },
     "execution_count": 7,
     "metadata": {},
     "output_type": "execute_result"
    }
   ],
   "source": [
    "get_top_n_for_user(predictions, uid, n=10)\n"
   ]
  },
  {
   "cell_type": "code",
   "execution_count": 8,
   "id": "a5872c44",
   "metadata": {},
   "outputs": [],
   "source": [
    "with open(\"../backend/model.pkl\", \"wb\") as file:\n",
    "    pickle.dump(predictions, file)"
   ]
  },
  {
   "cell_type": "code",
   "execution_count": 9,
   "id": "0ad38a12",
   "metadata": {},
   "outputs": [],
   "source": [
    "with zipfile.ZipFile('../backend/model.zip', 'w', zipfile.ZIP_DEFLATED) as zipf:\n",
    "    zipf.write('../backend/model.pkl', 'model.pkl')"
   ]
  }
 ],
 "metadata": {
  "kernelspec": {
   "display_name": "movies",
   "language": "python",
   "name": "python3"
  },
  "language_info": {
   "codemirror_mode": {
    "name": "ipython",
    "version": 3
   },
   "file_extension": ".py",
   "mimetype": "text/x-python",
   "name": "python",
   "nbconvert_exporter": "python",
   "pygments_lexer": "ipython3",
   "version": "3.12.9"
  }
 },
 "nbformat": 4,
 "nbformat_minor": 5
}
