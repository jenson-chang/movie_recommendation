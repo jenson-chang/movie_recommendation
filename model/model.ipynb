{
 "cells": [
  {
   "cell_type": "code",
   "execution_count": 17,
   "id": "74c1070e-d27a-4a1d-aa92-285de18534ee",
   "metadata": {},
   "outputs": [],
   "source": [
    "import pickle\n",
    "import numpy as np\n",
    "import pandas as pd\n",
    "from collections import defaultdict\n",
    "from surprise import Dataset, SVD, Reader\n",
    "from surprise.model_selection import cross_validate"
   ]
  },
  {
   "cell_type": "code",
   "execution_count": 18,
   "id": "5e174904-55d0-4761-b17d-b8b1c587505c",
   "metadata": {},
   "outputs": [],
   "source": [
    "# Source: Modified from https://github.com/NicolasHug/Surprise/blob/master/examples/top_n_recommendations.py\n",
    "def get_top_n_for_user(predictions, user_id, n=10):\n",
    "    \"\"\"\n",
    "    Return the top-N recommendations for a given user from a set of predictions.\n",
    "\n",
    "    Args:\n",
    "        predictions (list of Prediction objects): The list of predictions, as returned by the test method of an algorithm.\n",
    "        user_id (str or int): The user ID for whom to get recommendations.\n",
    "        n (int): The number of recommendations to return. Default is 10.\n",
    "\n",
    "    Returns:\n",
    "        list or str: A sorted list of tuples [(item_id, estimated_rating), ...] of size n for the given user_id,\n",
    "                     or a message if the user_id is not found.\n",
    "    \"\"\"\n",
    "\n",
    "    # Filter predictions for the given user_id\n",
    "    user_predictions = [(iid, est) for uid, iid, true_r, est, _ in predictions if uid == user_id]\n",
    "\n",
    "    # If user_id is not found, return a message\n",
    "    if not user_predictions:\n",
    "        return f\"User ID {user_id} not found in predictions.\"\n",
    "\n",
    "    # Sort by estimated rating in descending order\n",
    "    user_predictions.sort(key=lambda x: x[1], reverse=True)\n",
    "\n",
    "    # Return top-N recommendations\n",
    "    return user_predictions[:n]"
   ]
  },
  {
   "cell_type": "code",
   "execution_count": 19,
   "id": "2d4e5f76-d5d0-422e-9cdb-aa3faff1ca8b",
   "metadata": {},
   "outputs": [],
   "source": [
    "# First train an SVD algorithm on the movielens dataset.\n",
    "data = Dataset.load_builtin(\"ml-100k\")\n",
    "trainset = data.build_full_trainset()\n",
    "links = pd.read_csv(\"data/links.csv\")"
   ]
  },
  {
   "cell_type": "code",
   "execution_count": 20,
   "id": "c80cb74d",
   "metadata": {},
   "outputs": [],
   "source": [
    "# Get the raw training data\n",
    "raw_trainset = data.raw_ratings\n",
    "\n",
    "# Convert training data to use TMDB IDs\n",
    "ratings_data = []\n",
    "for uid, mid, rating, timestamp in raw_trainset:\n",
    "    # Convert movie ID to int for matching with links DataFrame\n",
    "    movie_id = int(mid)\n",
    "    # Get the TMDB ID from links DataFrame\n",
    "    tmdb_id = links[links['movieId'] == movie_id]['tmdbId'].values\n",
    "    # Only add rating if TMDB ID exists\n",
    "    if len(tmdb_id) > 0:\n",
    "        ratings_data.append({\n",
    "            'userID': str(uid),\n",
    "            'movieID': str(tmdb_id[0]),\n",
    "            'rating': rating\n",
    "        })\n",
    "\n",
    "# Convert to DataFrame\n",
    "df = pd.DataFrame(ratings_data)\n",
    "\n",
    "# Create a new Reader object\n",
    "reader = Reader(rating_scale=(1, 5))\n",
    "\n",
    "# Create a new Dataset object with TMDB IDs\n",
    "data = Dataset.load_from_df(df[['userID', 'movieID', 'rating']], reader)\n",
    "\n",
    "# Build the full trainset\n",
    "trainset = data.build_full_trainset()"
   ]
  },
  {
   "cell_type": "code",
   "execution_count": 21,
   "id": "2ec6369d",
   "metadata": {},
   "outputs": [
    {
     "name": "stdout",
     "output_type": "stream",
     "text": [
      "Evaluating RMSE, MAE of algorithm SVD on 3 split(s).\n",
      "\n",
      "                  Fold 1  Fold 2  Fold 3  Mean    Std     \n",
      "RMSE (testset)    0.9470  0.9423  0.9457  0.9450  0.0020  \n",
      "MAE (testset)     0.7478  0.7454  0.7486  0.7473  0.0013  \n",
      "Fit time          0.21    0.22    0.23    0.22    0.01    \n",
      "Test time         0.05    0.05    0.05    0.05    0.00    \n"
     ]
    },
    {
     "data": {
      "text/html": [
       "<div>\n",
       "<style scoped>\n",
       "    .dataframe tbody tr th:only-of-type {\n",
       "        vertical-align: middle;\n",
       "    }\n",
       "\n",
       "    .dataframe tbody tr th {\n",
       "        vertical-align: top;\n",
       "    }\n",
       "\n",
       "    .dataframe thead th {\n",
       "        text-align: right;\n",
       "    }\n",
       "</style>\n",
       "<table border=\"1\" class=\"dataframe\">\n",
       "  <thead>\n",
       "    <tr style=\"text-align: right;\">\n",
       "      <th></th>\n",
       "      <th>test_rmse</th>\n",
       "      <th>test_mae</th>\n",
       "      <th>fit_time</th>\n",
       "      <th>test_time</th>\n",
       "    </tr>\n",
       "  </thead>\n",
       "  <tbody>\n",
       "    <tr>\n",
       "      <th>0</th>\n",
       "      <td>0.946965</td>\n",
       "      <td>0.747799</td>\n",
       "      <td>0.207521</td>\n",
       "      <td>0.046198</td>\n",
       "    </tr>\n",
       "    <tr>\n",
       "      <th>1</th>\n",
       "      <td>0.942331</td>\n",
       "      <td>0.745446</td>\n",
       "      <td>0.216075</td>\n",
       "      <td>0.046753</td>\n",
       "    </tr>\n",
       "    <tr>\n",
       "      <th>2</th>\n",
       "      <td>0.945655</td>\n",
       "      <td>0.748554</td>\n",
       "      <td>0.227183</td>\n",
       "      <td>0.046655</td>\n",
       "    </tr>\n",
       "  </tbody>\n",
       "</table>\n",
       "</div>"
      ],
      "text/plain": [
       "   test_rmse  test_mae  fit_time  test_time\n",
       "0   0.946965  0.747799  0.207521   0.046198\n",
       "1   0.942331  0.745446  0.216075   0.046753\n",
       "2   0.945655  0.748554  0.227183   0.046655"
      ]
     },
     "execution_count": 21,
     "metadata": {},
     "output_type": "execute_result"
    }
   ],
   "source": [
    "\n",
    "algo = SVD()\n",
    "algo.fit(trainset)\n",
    "pd.DataFrame(cross_validate(algo, data, measures=[\"RMSE\", \"MAE\"], cv=3, verbose=True))"
   ]
  },
  {
   "cell_type": "code",
   "execution_count": 22,
   "id": "221ddeec-8c4b-4e59-845b-55d2b0fdcdf1",
   "metadata": {},
   "outputs": [],
   "source": [
    "# Than predict ratings for all pairs (u, i) that are NOT in the training set.\n",
    "testset = trainset.build_anti_testset()\n",
    "predictions = algo.test(testset)"
   ]
  },
  {
   "cell_type": "code",
   "execution_count": 23,
   "id": "cc46aa51-6f55-49e4-9dd2-5b54587ada10",
   "metadata": {},
   "outputs": [
    {
     "data": {
      "text/plain": [
       "[('9073.0', 5),\n",
       " ('18069.0', 4.975258858479597),\n",
       " ('1413.0', 4.9745731803828095),\n",
       " ('19760.0', 4.9742146805654945),\n",
       " ('12110.0', 4.9486573017868585),\n",
       " ('25557.0', 4.930271174407694),\n",
       " ('5967.0', 4.872219657073608),\n",
       " ('15730.0', 4.869556051201163),\n",
       " ('22588.0', 4.861697457750311),\n",
       " ('22586.0', 4.841037495573584)]"
      ]
     },
     "execution_count": 23,
     "metadata": {},
     "output_type": "execute_result"
    }
   ],
   "source": [
    "get_top_n_for_user(predictions, uid, n=10)\n"
   ]
  },
  {
   "cell_type": "code",
   "execution_count": 24,
   "id": "a5872c44",
   "metadata": {},
   "outputs": [],
   "source": [
    "with open(\"model.pkl\", \"wb\") as file:\n",
    "    pickle.dump(predictions, file)"
   ]
  }
 ],
 "metadata": {
  "kernelspec": {
   "display_name": "movies",
   "language": "python",
   "name": "python3"
  },
  "language_info": {
   "codemirror_mode": {
    "name": "ipython",
    "version": 3
   },
   "file_extension": ".py",
   "mimetype": "text/x-python",
   "name": "python",
   "nbconvert_exporter": "python",
   "pygments_lexer": "ipython3",
   "version": "3.12.9"
  }
 },
 "nbformat": 4,
 "nbformat_minor": 5
}
