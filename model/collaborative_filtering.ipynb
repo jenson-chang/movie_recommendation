{
 "cells": [
  {
   "cell_type": "code",
   "execution_count": 1,
   "id": "74c1070e-d27a-4a1d-aa92-285de18534ee",
   "metadata": {},
   "outputs": [],
   "source": [
    "import numpy as np\n",
    "import pandas as pd\n",
    "import zipfile\n",
    "import requests\n",
    "import os\n",
    "from surprise import Dataset, SVD, Reader\n",
    "from surprise.model_selection import cross_validate\n",
    "import concurrent.futures"
   ]
  },
  {
   "cell_type": "code",
   "execution_count": 2,
   "id": "2d4e5f76-d5d0-422e-9cdb-aa3faff1ca8b",
   "metadata": {},
   "outputs": [
    {
     "name": "stdout",
     "output_type": "stream",
     "text": [
      "Loading 100% of the ratings data...\n"
     ]
    }
   ],
   "source": [
    "# Define dataset name\n",
    "DATASET_NAME = 'ml-32m'\n",
    "\n",
    "# Create data directory if it doesn't exist\n",
    "os.makedirs('data', exist_ok=True)\n",
    "\n",
    "# Download and extract the zip file if it hasn't been downloaded yet\n",
    "zip_path = f'data/{DATASET_NAME}.zip'\n",
    "if not os.path.exists(zip_path):\n",
    "    print(\"Downloading MovieLens dataset...\")\n",
    "    response = requests.get(f'https://files.grouplens.org/datasets/movielens/{DATASET_NAME}.zip', stream=True)\n",
    "    response.raise_for_status()  # Raise an exception for bad status codes\n",
    "    \n",
    "    # Save the zip file\n",
    "    with open(zip_path, 'wb') as f:\n",
    "        for chunk in response.iter_content(chunk_size=8192):\n",
    "            f.write(chunk)\n",
    "    print(\"Download complete!\")\n",
    "\n",
    "# Extract the zip file if it hasn't been extracted yet\n",
    "if not os.path.exists(f'data/{DATASET_NAME}/ratings.csv'):\n",
    "    print(\"Extracting dataset...\")\n",
    "    with zipfile.ZipFile(zip_path, 'r') as zip_ref:\n",
    "        zip_ref.extractall('data')\n",
    "    print(\"Extraction complete!\")\n",
    "\n",
    "RATINGS_SUBSAMPLE = 1\n",
    "\n",
    "# Read the ratings and links data\n",
    "print(f\"Loading {RATINGS_SUBSAMPLE*100}% of the ratings data...\")\n",
    "ratings_df = pd.read_csv(f'data/{DATASET_NAME}/ratings.csv')\n",
    "if RATINGS_SUBSAMPLE < 1.0:\n",
    "    ratings_df = ratings_df.sample(frac=RATINGS_SUBSAMPLE, random_state=42)\n",
    "    print(f\"Loaded {len(ratings_df):,} ratings\")\n",
    "\n",
    "links_df = pd.read_csv(f'data/{DATASET_NAME}/links.csv')"
   ]
  },
  {
   "cell_type": "code",
   "execution_count": 3,
   "id": "3e00f8a3",
   "metadata": {},
   "outputs": [],
   "source": [
    "# Convert ratings to use TMDB IDs\n",
    "df = ratings_df.merge(links_df[['movieId', 'tmdbId']], on='movieId', how='inner')\n",
    "\n",
    "# Rename columns to match the expected format\n",
    "df = df.drop(columns=['movieId', 'timestamp'], axis=1)\n",
    "df = df.rename(columns={\n",
    "    'userId': 'userID',\n",
    "    'tmdbId': 'movieID'\n",
    "})"
   ]
  },
  {
   "cell_type": "code",
   "execution_count": 4,
   "id": "afd74db6",
   "metadata": {},
   "outputs": [
    {
     "name": "stdout",
     "output_type": "stream",
     "text": [
      "Original userId range: 1 to 200948\n",
      "Original unique users: 200,948\n"
     ]
    }
   ],
   "source": [
    "print(f\"Original userId range: {df['userID'].min()} to {df['userID'].max()}\")\n",
    "print(f\"Original unique users: {df['userID'].nunique():,}\")"
   ]
  },
  {
   "cell_type": "code",
   "execution_count": 5,
   "id": "c80cb74d",
   "metadata": {},
   "outputs": [],
   "source": [
    "# Convert IDs to strings as required by the Reader\n",
    "df['userID'] = df['userID'].astype(str)\n",
    "df['movieID'] = df['movieID'].astype(str)\n",
    "\n",
    "# Create a new Reader object\n",
    "reader = Reader(rating_scale=(0.5, 5))\n",
    "\n",
    "# Create a new Dataset object with TMDB IDs\n",
    "data = Dataset.load_from_df(df[['userID', 'movieID', 'rating']], reader)\n",
    "\n",
    "# Build the full trainset\n",
    "trainset = data.build_full_trainset()"
   ]
  },
  {
   "cell_type": "code",
   "execution_count": 6,
   "id": "2ec6369d",
   "metadata": {},
   "outputs": [
    {
     "data": {
      "text/plain": [
       "<surprise.prediction_algorithms.matrix_factorization.SVD at 0x1271cb800>"
      ]
     },
     "execution_count": 6,
     "metadata": {},
     "output_type": "execute_result"
    },
    {
     "ename": "",
     "evalue": "",
     "output_type": "error",
     "traceback": [
      "\u001b[1;31mThe Kernel crashed while executing code in the current cell or a previous cell. \n",
      "\u001b[1;31mPlease review the code in the cell(s) to identify a possible cause of the failure. \n",
      "\u001b[1;31mClick <a href='https://aka.ms/vscodeJupyterKernelCrash'>here</a> for more info. \n",
      "\u001b[1;31mView Jupyter <a href='command:jupyter.viewOutput'>log</a> for further details."
     ]
    }
   ],
   "source": [
    "\n",
    "model = SVD()\n",
    "model.fit(trainset)"
   ]
  },
  {
   "cell_type": "code",
   "execution_count": null,
   "id": "677aaef3",
   "metadata": {},
   "outputs": [],
   "source": [
    "all_items = set(trainset._raw2inner_id_items.keys())\n",
    "user_ids = list(trainset._raw2inner_id_users.keys())\n",
    "\n",
    "def predict_for_user(uid):\n",
    "    try:\n",
    "        user_inner_id = trainset.to_inner_uid(uid)\n",
    "        rated_items = {trainset.to_raw_iid(i) for (i, _) in trainset.ur[user_inner_id]}\n",
    "        unrated_items = all_items - rated_items\n",
    "\n",
    "        preds = [\n",
    "            model.predict(uid, iid)\n",
    "            for iid in unrated_items\n",
    "        ]\n",
    "\n",
    "        top_n = sorted(preds, key=lambda x: x.est, reverse=True)[:10]\n",
    "        return uid, [(p.iid, p.est) for p in top_n]\n",
    "    except:\n",
    "        return uid, []\n",
    "\n",
    "# Run in parallel\n",
    "top_n_results = {}\n",
    "with concurrent.futures.ProcessPoolExecutor(max_workers=4) as executor:\n",
    "    futures = {executor.submit(predict_for_user, uid): uid for uid in user_ids[:5000]}  # limit for test\n",
    "    for future in concurrent.futures.as_completed(futures):\n",
    "        uid, top_n = future.result()\n",
    "        top_n_results[uid] = top_n"
   ]
  },
  {
   "cell_type": "code",
   "execution_count": null,
   "id": "a5872c44",
   "metadata": {},
   "outputs": [],
   "source": [
    "# Convert predictions to DataFrame with only the essential columns\n",
    "predictions_df = pd.DataFrame([(p.uid, p.iid, p.est) for p in predictions], \n",
    "                            columns=['user_id', 'movie_id', 'rating'])\n",
    "\n",
    "# Get top 20 predictions per user\n",
    "top_20_predictions = predictions_df.groupby('user_id').apply(\n",
    "    lambda x: x.nlargest(20, 'rating')\n",
    ").reset_index(drop=True)\n",
    "\n",
    "# Save as parquet with compression for smaller file size\n",
    "top_20_predictions.to_parquet('../backend/models/collab_predictions.parquet', compression='snappy')"
   ]
  }
 ],
 "metadata": {
  "kernelspec": {
   "display_name": "movies",
   "language": "python",
   "name": "python3"
  },
  "language_info": {
   "codemirror_mode": {
    "name": "ipython",
    "version": 3
   },
   "file_extension": ".py",
   "mimetype": "text/x-python",
   "name": "python",
   "nbconvert_exporter": "python",
   "pygments_lexer": "ipython3",
   "version": "3.12.9"
  }
 },
 "nbformat": 4,
 "nbformat_minor": 5
}
