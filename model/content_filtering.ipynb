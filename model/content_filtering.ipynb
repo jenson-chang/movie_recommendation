{
 "cells": [
  {
   "cell_type": "code",
   "execution_count": 1,
   "id": "74c1070e-d27a-4a1d-aa92-285de18534ee",
   "metadata": {},
   "outputs": [],
   "source": [
    "import numpy as np\n",
    "import pandas as pd\n",
    "import os\n",
    "from sklearn.linear_model import Ridge\n",
    "from sklearn.preprocessing import MultiLabelBinarizer\n",
    "from sklearn.metrics import mean_squared_error"
   ]
  },
  {
   "cell_type": "code",
   "execution_count": 3,
   "id": "2d4e5f76-d5d0-422e-9cdb-aa3faff1ca8b",
   "metadata": {},
   "outputs": [
    {
     "name": "stdout",
     "output_type": "stream",
     "text": [
      "Loading 100% of the ratings data...\n"
     ]
    }
   ],
   "source": [
    "# Create data directory if it doesn't exist\n",
    "os.makedirs('data', exist_ok=True)\n",
    "\n",
    "# Download and extract the zip file if it hasn't been downloaded yet\n",
    "zip_path = 'data/ml-latest-small.zip'\n",
    "if not os.path.exists(zip_path):\n",
    "    print(\"Downloading MovieLens dataset...\")\n",
    "    response = requests.get('https://files.grouplens.org/datasets/movielens/ml-latest-small.zip', stream=True)\n",
    "    response.raise_for_status()  # Raise an exception for bad status codes\n",
    "    \n",
    "    # Save the zip file\n",
    "    with open(zip_path, 'wb') as f:\n",
    "        for chunk in response.iter_content(chunk_size=8192):\n",
    "            f.write(chunk)\n",
    "    print(\"Download complete!\")\n",
    "\n",
    "# Extract the zip file if it hasn't been extracted yet\n",
    "if not os.path.exists('data/ml-latest-small/ratings.csv'):\n",
    "    print(\"Extracting dataset...\")\n",
    "    with zipfile.ZipFile(zip_path, 'r') as zip_ref:\n",
    "        zip_ref.extractall('data')\n",
    "    print(\"Extraction complete!\")\n",
    "\n",
    "RATINGS_SUBSAMPLE = 1\n",
    "\n",
    "# Read the ratings and links data\n",
    "print(f\"Loading {RATINGS_SUBSAMPLE*100}% of the ratings data...\")\n",
    "ratings_df = pd.read_csv('data/ml-latest-small/ratings.csv')\n",
    "if RATINGS_SUBSAMPLE < 1.0:\n",
    "    ratings_df = ratings_df.sample(frac=RATINGS_SUBSAMPLE, random_state=42)\n",
    "    print(f\"Loaded {len(ratings_df):,} ratings\")\n",
    "\n",
    "links_df = pd.read_csv('data/ml-latest-small/links.csv')\n",
    "movies_df = pd.read_csv('data/ml-latest-small/movies.csv')"
   ]
  },
  {
   "cell_type": "code",
   "execution_count": 4,
   "id": "02b6a2e2",
   "metadata": {},
   "outputs": [
    {
     "data": {
      "text/plain": [
       "(9708, 2)"
      ]
     },
     "execution_count": 4,
     "metadata": {},
     "output_type": "execute_result"
    }
   ],
   "source": [
    "# Drop movies with no genres\n",
    "movies_df = movies_df[movies_df['genres'] != '(no genres listed)']\n",
    "\n",
    "# Convert ratings to use TMDB IDs\n",
    "movies_df = movies_df.merge(links_df[['movieId', 'tmdbId']], on='movieId', how='inner')\n",
    "\n",
    "# Create genres string column for TF-IDF\n",
    "movies_df['genres'] = movies_df['genres'].mask(movies_df['genres'] == \"(no genres listed)\", \"Unknown\").str.split(\"|\")\n",
    "\n",
    "# Rename columns to match the expected format\n",
    "movies_df = movies_df.drop(columns=['movieId', 'title'], axis=1)\n",
    "movies_df = movies_df.rename(columns={\n",
    "    'tmdbId': 'movie_id',\n",
    "})\n",
    "movies_df.shape"
   ]
  },
  {
   "cell_type": "code",
   "execution_count": 5,
   "id": "3e00f8a3",
   "metadata": {},
   "outputs": [
    {
     "data": {
      "text/plain": [
       "user_id      610\n",
       "movie_id    9681\n",
       "rating        10\n",
       "dtype: int64"
      ]
     },
     "execution_count": 5,
     "metadata": {},
     "output_type": "execute_result"
    }
   ],
   "source": [
    "# Convert ratings to use TMDB IDs\n",
    "ratings_df = ratings_df.merge(links_df[['movieId', 'tmdbId']], on='movieId', how='inner')\n",
    "\n",
    "# Rename columns to match the expected format\n",
    "ratings_df = ratings_df.drop(columns=['movieId', 'timestamp'], axis=1)\n",
    "ratings_df = ratings_df.rename(columns={\n",
    "    'userId': 'user_id',\n",
    "    'tmdbId': 'movie_id'\n",
    "})\n",
    "\n",
    "# Filter ratings to only include movie IDs that appear in movies_df\n",
    "ratings_df = ratings_df[ratings_df['movie_id'].isin(movies_df['movie_id'])]\n",
    "\n",
    "# Handle duplicate ratings by taking the mean\n",
    "ratings_df = ratings_df.groupby(['user_id', 'movie_id'])['rating'].mean().reset_index()\n",
    "\n",
    "ratings_df.nunique()"
   ]
  },
  {
   "cell_type": "code",
   "execution_count": 6,
   "id": "9a8bef99",
   "metadata": {},
   "outputs": [],
   "source": [
    "# Drop duplicates based on movie_id\n",
    "movies_df = movies_df.drop_duplicates(subset='movie_id')\n",
    "\n",
    "# Then proceed as before\n",
    "mlb = MultiLabelBinarizer()\n",
    "genre_features = mlb.fit_transform(movies_df['genres'])\n",
    "\n",
    "genre_df = pd.DataFrame(\n",
    "    genre_features,\n",
    "    columns=mlb.classes_,\n",
    "    index=movies_df['movie_id']\n",
    ")"
   ]
  },
  {
   "cell_type": "code",
   "execution_count": 7,
   "id": "f3f64921",
   "metadata": {},
   "outputs": [],
   "source": [
    "# First create the user_movie_matrix\n",
    "user_movie_matrix = ratings_df.pivot(index='user_id', columns='movie_id', values='rating')\n",
    "\n",
    "# Then get only the genre features for movies that have ratings\n",
    "genre_features = genre_df.loc[user_movie_matrix.columns].values"
   ]
  },
  {
   "cell_type": "code",
   "execution_count": 8,
   "id": "4ef734f5",
   "metadata": {},
   "outputs": [],
   "source": [
    "# Align genre features with movie IDs in ratings\n",
    "movie_ids = user_movie_matrix.columns\n",
    "genre_features = genre_df.loc[movie_ids].values"
   ]
  },
  {
   "cell_type": "code",
   "execution_count": 9,
   "id": "f8ea6c43",
   "metadata": {},
   "outputs": [],
   "source": [
    "# Train a Ridge model for each user\n",
    "user_models = {}\n",
    "for user_id in user_movie_matrix.index:\n",
    "    # Get user's ratings\n",
    "    user_ratings = user_movie_matrix.loc[user_id].values\n",
    "    \n",
    "    # Get indices of non-NaN ratings\n",
    "    rated_indices = ~np.isnan(user_ratings)\n",
    "    \n",
    "    # Only train on movies the user has rated\n",
    "    if np.sum(rated_indices) > 0:  # Only train if user has rated at least one movie\n",
    "        model = Ridge(alpha=1.0)\n",
    "        model.fit(genre_features[rated_indices], user_ratings[rated_indices])\n",
    "\n",
    "        user_models[user_id] = model\n",
    "\n",
    "# Initialize predictions array with same shape as user_movie_matrix\n",
    "predictions = np.zeros_like(user_movie_matrix.values)\n",
    "\n",
    "# Fill predictions array with model predictions\n",
    "for i, user_id in enumerate(user_movie_matrix.index):\n",
    "    if user_id in user_models:  # Only predict if we have a model for this user\n",
    "        predictions[i] = user_models[user_id].predict(genre_features)\n",
    "    else:\n",
    "        predictions[i] = np.nan  # Set predictions to NaN for users with no ratings\n",
    "        print(\"No model for user:\", user_id)\n",
    "\n"
   ]
  },
  {
   "cell_type": "code",
   "execution_count": 10,
   "id": "411ae568",
   "metadata": {},
   "outputs": [],
   "source": [
    "# Copy original matrix\n",
    "imputed_values = user_movie_matrix.values.copy()\n",
    "\n",
    "# Find NaN positions\n",
    "mask = np.isnan(imputed_values)\n",
    "\n",
    "# Fill missing values with predictions\n",
    "imputed_values[mask] = predictions[mask]\n",
    "\n",
    "# Build imputed DataFrame\n",
    "imputed_matrix = pd.DataFrame(imputed_values, index=user_movie_matrix.index, columns=user_movie_matrix.columns)\n",
    "\n",
    "# Extract predicted values (only for imputed entries)\n",
    "predictions_list = []\n",
    "for i, user_id in enumerate(imputed_matrix.index):\n",
    "    for j, movie_id in enumerate(imputed_matrix.columns):\n",
    "        if mask[i, j]:  # Only include predicted (imputed) values\n",
    "            predictions_list.append([user_id, movie_id, imputed_matrix.iloc[i, j]])"
   ]
  },
  {
   "cell_type": "code",
   "execution_count": 11,
   "id": "59c07540",
   "metadata": {},
   "outputs": [
    {
     "name": "stdout",
     "output_type": "stream",
     "text": [
      "RMSE on known ratings: 0.8407\n"
     ]
    }
   ],
   "source": [
    "# Extract actual and predicted values only where ratings exist (i.e., not NaN in original matrix)\n",
    "actual = user_movie_matrix.values\n",
    "\n",
    "# Mask for known (non-NaN) ratings\n",
    "mask = ~np.isnan(actual)\n",
    "\n",
    "# Compute RMSE\n",
    "rmse = np.sqrt(mean_squared_error(actual[mask], predictions[mask]))\n",
    "\n",
    "print(f\"RMSE on known ratings: {rmse:.4f}\")"
   ]
  },
  {
   "cell_type": "code",
   "execution_count": 12,
   "id": "8c8f7cea",
   "metadata": {},
   "outputs": [],
   "source": [
    "# Convert predictions_list to DataFrame\n",
    "predictions_df = pd.DataFrame(predictions_list, columns=[\"user_id\", \"movie_id\", \"rating\"])\n",
    "\n",
    "# Ensure consistent data types\n",
    "predictions_df[\"user_id\"] = predictions_df[\"user_id\"].astype(str)\n",
    "predictions_df[\"movie_id\"] = predictions_df[\"movie_id\"].astype(str)\n",
    "\n",
    "# Save to Parquet\n",
    "predictions_df.to_parquet(\"../backend/models/content_predictions.parquet\", index=False)"
   ]
  },
  {
   "cell_type": "code",
   "execution_count": 13,
   "id": "8ecc0567",
   "metadata": {},
   "outputs": [],
   "source": [
    "# Save the ratings_df as a parquet file\n",
    "ratings_df.to_parquet(\"../backend/models/current_ratings.parquet\")"
   ]
  }
 ],
 "metadata": {
  "kernelspec": {
   "display_name": "movies",
   "language": "python",
   "name": "python3"
  },
  "language_info": {
   "codemirror_mode": {
    "name": "ipython",
    "version": 3
   },
   "file_extension": ".py",
   "mimetype": "text/x-python",
   "name": "python",
   "nbconvert_exporter": "python",
   "pygments_lexer": "ipython3",
   "version": "3.12.9"
  }
 },
 "nbformat": 4,
 "nbformat_minor": 5
}
